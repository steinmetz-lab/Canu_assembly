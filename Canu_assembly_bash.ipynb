{
 "cells": [
  {
   "cell_type": "code",
   "execution_count": 9,
   "metadata": {
    "collapsed": false
   },
   "outputs": [
    {
     "name": "stdout",
     "output_type": "stream",
     "text": []
    }
   ],
   "source": [
    "#!/bin/bash \n",
    "\n",
    "### Change these settings as needed ###\n",
    "\n",
    "# Read file information\n",
    "read_dir=\"/g/steinmetz/project/IESY/sequencing/Data/PacBio/XEMBL.20161504.PACBIO_DATA\"\n",
    "read_file=\"XEMBL_20160408_RS42150_PL100065328A-1_H01-1_lbc4.fastq\"\n",
    "read_ID=\"JS599\"\n",
    "\n",
    "# Reference file information\n",
    "ref_dir=\"/g/steinmetz/genome/Saccharomyces_cerevisiae/\"\n",
    "ref_file=\"S288c_SynIXR/SynIXR_S299C_combined.fsa\"\n",
    "\n",
    "# Results information\n",
    "result_dir=\"/g/steinmetz/project/IESY/sequencing/Results/PacBio/\"\n",
    "\n",
    "# Append sample ID (well information etc.)\n",
    "sample_ID_append=\"-F3-test7\"\n",
    "\n",
    "# Aligner arguments\n",
    "bestn=\"1\"\n",
    "nproc=\"16\" #number of spawned processes\n",
    "\n",
    "# Samtools arguments\n",
    "mem_alloc=\"20000000000\" #in bytes\n",
    "\n",
    "# Chromosome ID for reads of interest\n",
    "chr_ID=\"gi|346228209|gb|JN020955.1|\" #SynIXR in this case\n",
    "\n",
    "# Assembler arguments\n",
    "genome_size=\"155280\" #in bytes\n",
    "seq_lib_type=\"pacbio-raw\" #library input type\n",
    "use_grid=\"0\" #attach to grid"
   ]
  },
  {
   "cell_type": "code",
   "execution_count": null,
   "metadata": {
    "collapsed": true
   },
   "outputs": [],
   "source": [
    "### Run pipeline ###\n",
    "\n",
    "# Read input full path\n",
    "read_in=\"$read_dir/Demux/$read_ID/$read_file\"\n",
    "\n",
    "# Reference input full path\n",
    "ref_in=$ref_dir$ref_file\n",
    "\n",
    "# Sample ID\n",
    "sample_ID=$read_ID$sample_ID_append\n",
    "\n",
    "# Aligned reads output\n",
    "align_append=\"_PacBio_all_reads_aligned\"\n",
    "align_out=$sample_ID$align_append\n",
    "\n",
    "# Extracted reads output\n",
    "extract_append=\"_PacBio_SynIXR_only_sorted\"\n",
    "\n",
    "# Create results directories\n",
    "cd $result_dir\n",
    "mkdir ./$sample_ID\n",
    "mkdir ./$sample_ID/Ref_align\n",
    "mkdir ./$sample_ID/Ref_align/All_reads\n",
    "mkdir ./$sample_ID/Canu_assembly\n",
    "mkdir ./$sample_ID/Canu_assembly/SynIXR_only\n",
    "\n",
    "# Align reads using blasr\n",
    "cd $result_dir$sample_ID/Ref_align/All_reads\n",
    "~/.linuxbrew/bin/blasr $read_in $ref_in -bestn $bestn -sam -nproc $nproc -out $align_out.sam & wait\n",
    "\n",
    "echo \"Completed collecting reads\"\n",
    "\n",
    "# Convert to bam, sort and index\n",
    "cd $result_dir$sample_ID/Ref_align/All_reads\n",
    "/g/software/bin/samtools view -b -S $align_out.sam > $align_out.bam\n",
    "/g/software/bin/samtools sort -m $mem_alloc $align_out.bam -o ${align_out}_sorted.bam\n",
    "/g/software/bin/samtools index ${align_out}_sorted.bam\n",
    "\n",
    "# Extract reads mapping to SynIXR\n",
    "/g/software/bin/samtools view -b ${align_out}_sorted.bam \"$chr_ID\" > $sample_ID$extract_append.bam\n",
    "\n",
    "# Convert to fasta\n",
    "/g/software/bin/samtools view $sample_ID$extract_append.bam | awk '{OFS=\"\\t\"; print \">\"$1\"\\n\"$10}' - > \\\n",
    "$sample_ID$extract_append.fasta\n",
    "\n",
    "# Set JAVA environment and run assembler\n",
    "cd /g/steinmetz/project/IESY/Tools/environ\n",
    ". set_java-1.8 \n",
    "\n",
    "cd /g/steinmetz/project/IESY/Tools/canu/Linux-amd64/bin/\n",
    "\n",
    "./canu -p JS599-F3-gDNA_SynIXR_only -d \"$result_dir$sample_ID/Canu_assembly/SynIXR_only\" \\\n",
    "genomeSize=$genome_size -$seq_lib_type \"$result_dir$sample_ID/Ref_align/All_reads/$sample_ID$extract_append.fasta\" \\\n",
    "useGrid=$use_grid\n",
    "\n",
    "echo \"Completed assembly\""
   ]
  },
  {
   "cell_type": "code",
   "execution_count": null,
   "metadata": {
    "collapsed": true
   },
   "outputs": [],
   "source": []
  }
 ],
 "metadata": {
  "kernelspec": {
   "display_name": "Bash",
   "language": "bash",
   "name": "bash"
  },
  "language_info": {
   "codemirror_mode": "shell",
   "file_extension": ".sh",
   "mimetype": "text/x-sh",
   "name": "bash"
  }
 },
 "nbformat": 4,
 "nbformat_minor": 0
}
